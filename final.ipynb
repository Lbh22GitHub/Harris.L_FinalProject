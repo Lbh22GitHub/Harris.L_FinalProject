{
 "cells": [
  {
   "cell_type": "code",
   "execution_count": 50,
   "id": "cd48f051-95bb-4a55-a5fc-280a140bd44a",
   "metadata": {
    "tags": []
   },
   "outputs": [],
   "source": [
    "# import add-ons\n",
    "import pandas as pd\n",
    "from datetime import datetime\n",
    "import numpy as np\n",
    "import matplotlib.pyplot as plt\n",
    "import numpy as np #imports\n",
    "import matplotlib.pyplot as plt\n",
    "import cartopy.crs as ccrs\n",
    "import cartopy.feature as cfeature\n",
    "import xarray as xr\n",
    "from scipy import stats\n",
    "import netCDF4\n",
    "import cmocean\n"
   ]
  },
  {
   "cell_type": "code",
   "execution_count": 51,
   "id": "52bf0701-88a9-4965-accc-016fe4a0a13c",
   "metadata": {},
   "outputs": [],
   "source": [
    "# dataset files\n",
    "dabob_filepath = 'data/Dabob_122W_48N_Jul2019_Jun2020.xlsx'\n",
    "twanoh_filepath = 'data/Twanoh_123W_47N_Sep2019_Oct2020.csv'\n",
    "Ndata_filepath ='data/46124o2020.txt'\n",
    "Sdata_filepath = 'data/46125o2020.txt'"
   ]
  },
  {
   "cell_type": "code",
   "execution_count": 61,
   "id": "c93ad395-3cfa-4839-b6a6-3342331b4884",
   "metadata": {
    "tags": []
   },
   "outputs": [
    {
     "data": {
      "text/html": [
       "<div>\n",
       "<style scoped>\n",
       "    .dataframe tbody tr th:only-of-type {\n",
       "        vertical-align: middle;\n",
       "    }\n",
       "\n",
       "    .dataframe tbody tr th {\n",
       "        vertical-align: top;\n",
       "    }\n",
       "\n",
       "    .dataframe thead th {\n",
       "        text-align: right;\n",
       "    }\n",
       "</style>\n",
       "<table border=\"1\" class=\"dataframe\">\n",
       "  <thead>\n",
       "    <tr style=\"text-align: right;\">\n",
       "      <th></th>\n",
       "      <th>Date</th>\n",
       "      <th>xCO2 SW (dry) (umol/mol)</th>\n",
       "    </tr>\n",
       "  </thead>\n",
       "  <tbody>\n",
       "    <tr>\n",
       "      <th>0</th>\n",
       "      <td>2019-07-18</td>\n",
       "      <td>324.5</td>\n",
       "    </tr>\n",
       "    <tr>\n",
       "      <th>1</th>\n",
       "      <td>2019-07-18</td>\n",
       "      <td>357.4</td>\n",
       "    </tr>\n",
       "    <tr>\n",
       "      <th>2</th>\n",
       "      <td>2019-07-18</td>\n",
       "      <td>343.1</td>\n",
       "    </tr>\n",
       "    <tr>\n",
       "      <th>3</th>\n",
       "      <td>2019-07-18</td>\n",
       "      <td>334.2</td>\n",
       "    </tr>\n",
       "    <tr>\n",
       "      <th>4</th>\n",
       "      <td>2019-07-18</td>\n",
       "      <td>328.6</td>\n",
       "    </tr>\n",
       "    <tr>\n",
       "      <th>...</th>\n",
       "      <td>...</td>\n",
       "      <td>...</td>\n",
       "    </tr>\n",
       "    <tr>\n",
       "      <th>2666</th>\n",
       "      <td>2020-06-15</td>\n",
       "      <td>257.3</td>\n",
       "    </tr>\n",
       "    <tr>\n",
       "      <th>2667</th>\n",
       "      <td>2020-06-15</td>\n",
       "      <td>247.9</td>\n",
       "    </tr>\n",
       "    <tr>\n",
       "      <th>2668</th>\n",
       "      <td>2020-06-15</td>\n",
       "      <td>260.1</td>\n",
       "    </tr>\n",
       "    <tr>\n",
       "      <th>2669</th>\n",
       "      <td>2020-06-15</td>\n",
       "      <td>270.6</td>\n",
       "    </tr>\n",
       "    <tr>\n",
       "      <th>2670</th>\n",
       "      <td>2020-06-15</td>\n",
       "      <td>294.6</td>\n",
       "    </tr>\n",
       "  </tbody>\n",
       "</table>\n",
       "<p>2671 rows × 2 columns</p>\n",
       "</div>"
      ],
      "text/plain": [
       "           Date  xCO2 SW (dry) (umol/mol)\n",
       "0    2019-07-18                     324.5\n",
       "1    2019-07-18                     357.4\n",
       "2    2019-07-18                     343.1\n",
       "3    2019-07-18                     334.2\n",
       "4    2019-07-18                     328.6\n",
       "...         ...                       ...\n",
       "2666 2020-06-15                     257.3\n",
       "2667 2020-06-15                     247.9\n",
       "2668 2020-06-15                     260.1\n",
       "2669 2020-06-15                     270.6\n",
       "2670 2020-06-15                     294.6\n",
       "\n",
       "[2671 rows x 2 columns]"
      ]
     },
     "metadata": {},
     "output_type": "display_data"
    }
   ],
   "source": [
    "# load dabob dataset\n",
    "dabob_df = pd.read_excel(dabob_filepath,header=4,usecols = (3,16))#,index_col='Date')\n",
    "dabob_df['Date'] = pd.to_datetime(dabob_df['Date'])\n",
    "\n",
    "display(dabob_df)"
   ]
  },
  {
   "cell_type": "code",
   "execution_count": 62,
   "id": "40c9c739-8436-4ad8-bf30-e94915f9d715",
   "metadata": {
    "tags": []
   },
   "outputs": [
    {
     "data": {
      "text/html": [
       "<div>\n",
       "<style scoped>\n",
       "    .dataframe tbody tr th:only-of-type {\n",
       "        vertical-align: middle;\n",
       "    }\n",
       "\n",
       "    .dataframe tbody tr th {\n",
       "        vertical-align: top;\n",
       "    }\n",
       "\n",
       "    .dataframe thead th {\n",
       "        text-align: right;\n",
       "    }\n",
       "</style>\n",
       "<table border=\"1\" class=\"dataframe\">\n",
       "  <thead>\n",
       "    <tr style=\"text-align: right;\">\n",
       "      <th></th>\n",
       "      <th>Date</th>\n",
       "      <th>xCO2 SW (dry) (umol/mol)</th>\n",
       "    </tr>\n",
       "  </thead>\n",
       "  <tbody>\n",
       "    <tr>\n",
       "      <th>0</th>\n",
       "      <td>2019-09-23</td>\n",
       "      <td>436.1</td>\n",
       "    </tr>\n",
       "    <tr>\n",
       "      <th>1</th>\n",
       "      <td>2019-09-23</td>\n",
       "      <td>490.4</td>\n",
       "    </tr>\n",
       "    <tr>\n",
       "      <th>2</th>\n",
       "      <td>2019-09-23</td>\n",
       "      <td>395.3</td>\n",
       "    </tr>\n",
       "    <tr>\n",
       "      <th>3</th>\n",
       "      <td>2019-09-23</td>\n",
       "      <td>429.8</td>\n",
       "    </tr>\n",
       "    <tr>\n",
       "      <th>4</th>\n",
       "      <td>2019-09-23</td>\n",
       "      <td>448.0</td>\n",
       "    </tr>\n",
       "    <tr>\n",
       "      <th>...</th>\n",
       "      <td>...</td>\n",
       "      <td>...</td>\n",
       "    </tr>\n",
       "    <tr>\n",
       "      <th>3083</th>\n",
       "      <td>2020-10-14</td>\n",
       "      <td>836.4</td>\n",
       "    </tr>\n",
       "    <tr>\n",
       "      <th>3084</th>\n",
       "      <td>2020-10-14</td>\n",
       "      <td>804.9</td>\n",
       "    </tr>\n",
       "    <tr>\n",
       "      <th>3085</th>\n",
       "      <td>2020-10-15</td>\n",
       "      <td>769.0</td>\n",
       "    </tr>\n",
       "    <tr>\n",
       "      <th>3086</th>\n",
       "      <td>2020-10-15</td>\n",
       "      <td>753.4</td>\n",
       "    </tr>\n",
       "    <tr>\n",
       "      <th>3087</th>\n",
       "      <td>2020-10-15</td>\n",
       "      <td>726.1</td>\n",
       "    </tr>\n",
       "  </tbody>\n",
       "</table>\n",
       "<p>3088 rows × 2 columns</p>\n",
       "</div>"
      ],
      "text/plain": [
       "           Date  xCO2 SW (dry) (umol/mol)\n",
       "0    2019-09-23                     436.1\n",
       "1    2019-09-23                     490.4\n",
       "2    2019-09-23                     395.3\n",
       "3    2019-09-23                     429.8\n",
       "4    2019-09-23                     448.0\n",
       "...         ...                       ...\n",
       "3083 2020-10-14                     836.4\n",
       "3084 2020-10-14                     804.9\n",
       "3085 2020-10-15                     769.0\n",
       "3086 2020-10-15                     753.4\n",
       "3087 2020-10-15                     726.1\n",
       "\n",
       "[3088 rows x 2 columns]"
      ]
     },
     "metadata": {},
     "output_type": "display_data"
    }
   ],
   "source": [
    "# load twanoh\n",
    "twanoh_df = pd.read_csv(twanoh_filepath, header=4,usecols = (3,16))\n",
    "twanoh_df['Date'] = pd.to_datetime(twanoh_df['Date'])\n",
    "\n",
    "display(twanoh_df)\n",
    "\n",
    "# calculate rolling monthly average\n",
    "\n",
    "#twanoh_round = twanoh_df['xCO2 SW (dry) (umol/mol)'].resample('M').mean()"
   ]
  },
  {
   "cell_type": "code",
   "execution_count": 65,
   "id": "ec364ec6-3a7b-4ea2-8b27-40a92ee171d6",
   "metadata": {
    "tags": []
   },
   "outputs": [],
   "source": [
    "# combine data frames\n",
    "# unique-ing shit\n",
    "dabob_df_dates = pd.unique(dabob_df['Date'].values)\n",
    "twanoh_df_dates = pd.unique(twanoh_df['Date'].values)\n",
    "\n",
    "round_temps=[]\n",
    "round_sal = []\n",
    "for dates in dabob_df_dates:\n",
    "    #find mean of temp\n",
    "    mean_temps = pd.mean(dabob_df.loc[dabob_df['Date']==dabob_df_dates, 'Dabob'])\n",
    "    round_temps.append(mean_temps)\n",
    "#twanoh_dabob = pd.concat([twanoh_df,dabob_df],axis=1,join='outer')\n"
   ]
  },
  {
   "cell_type": "code",
   "execution_count": 88,
   "id": "a7d9d387-fead-4146-9280-a06aed77f460",
   "metadata": {
    "tags": []
   },
   "outputs": [
    {
     "data": {
      "text/plain": [
       "[<matplotlib.lines.Line2D at 0x7f18398d5b10>]"
      ]
     },
     "execution_count": 88,
     "metadata": {},
     "output_type": "execute_result"
    },
    {
     "data": {
      "image/png": "[encoded data removed]",
      "text/plain": [
       "<Figure size 1000x600 with 2 Axes>"
      ]
     },
     "metadata": {},
     "output_type": "display_data"
    }
   ],
   "source": [
    "# plot twanoh and dabob_df\n",
    "fig,axs = plt.subplots(figsize=(10,6), nrows=2,sharex=False)\n",
    "axs[0].plot(twanoh_df.index.values,twanoh_df['xCO2 SW (dry) (umol/mol)'].values,label = '0')\n",
    "axs[1].plot(dabob_df.index.values,dabob_df['xCO2 SW (dry) (umol/mol)'].values,label = '1')\n",
    "#fig,axs = plt.subplots(figsize=(10,6))\n",
    "#axs.plot(dabob_df['Date'],dabob_df['MAPCO2 %O2'])\n",
    "#axs.plot(x,y2,marker='.',c='red')\n",
    "#axs.set_ylabel('Oxygen')\n",
    "#axs.set_xlabel('Time')\n",
    "#axs.set_title('Oxygen Levels in North Hood Canal over Time')\n",
    "#axs.grid()"
   ]
  },
  {
   "cell_type": "code",
   "execution_count": null,
   "id": "e943c4d5-7cb3-4443-ad14-08c934aed03d",
   "metadata": {
    "tags": []
   },
   "outputs": [],
   "source": [
    "# Ndata\n",
    "oxygen_Ndata = np.genfromtxt(Ndata_filepath,skip_header=2,usecols=(10)) # y axis\n",
    "dates_Ndata = np.genfromtxt(Ndata_filepath,skip_header=2,usecols=(1)) # x axis (month and day)\n",
    "display(dates_Ndata)\n",
    "N_datadf = pd.Series(index=dates_Ndata[:,1],data=oxygen_Ndata, name = 'Oxygen')\n",
    "# consolidate To 1 point per month\n",
    "for latitude in round_lat:\n",
    "    #find mean of temp\n",
    "    mean_temps = np.mean(g5_sfl.loc[g5_sfl['round_lat']==latitude, 'OCEAN TEMP'])\n",
    "    round_temps.append(mean_temps)\n",
    "print(len(oxygen_Ndata))\n",
    "print(len(dates_Ndata))"
   ]
  },
  {
   "cell_type": "code",
   "execution_count": null,
   "id": "3f7321e2-b919-406f-8f70-e69d78d34b8c",
   "metadata": {
    "tags": []
   },
   "outputs": [],
   "source": [
    "# Sdata\n",
    "oxygen_Ndata = np.genfromtxt(Sdata_filepath,skip_header=2,usecols=10) # y axis\n",
    "dates_Ndata = np.genfromtxt(Sdata_filepath,skip_header=2,usecols=(1,)) # x axis (month and day)\n",
    "print(len(oxygen_Ndata))\n",
    "print(len(dates_Ndata))"
   ]
  },
  {
   "cell_type": "code",
   "execution_count": null,
   "id": "7ee51d14-d1ea-4d94-935b-03ebdb282581",
   "metadata": {},
   "outputs": [],
   "source": [
    "# plot North Data\n",
    "\n",
    "fig,axs = plt.subplots(figsize=(10,6))\n",
    "y=N_datadf.values\n",
    "x=N_datadf.index.values\n",
    "axs.plot(x,y,marker='.')\n",
    "#axs.plot(x,y2,marker='.',c='red')\n",
    "axs.set_ylabel('Oxygen')\n",
    "axs.set_xlabel('Time')\n",
    "#axs.legend()"
   ]
  },
  {
   "cell_type": "code",
   "execution_count": null,
   "id": "ff35018f-b334-478c-9ac4-8a967af44beb",
   "metadata": {},
   "outputs": [],
   "source": []
  }
 ],
 "metadata": {
  "kernelspec": {
   "display_name": "Python 3 (ipykernel)",
   "language": "python",
   "name": "python3"
  },
  "language_info": {
   "codemirror_mode": {
    "name": "ipython",
    "version": 3
   },
   "file_extension": ".py",
   "mimetype": "text/x-python",
   "name": "python",
   "nbconvert_exporter": "python",
   "pygments_lexer": "ipython3",
   "version": "3.10.10"
  }
 },
 "nbformat": 4,
 "nbformat_minor": 5
}
