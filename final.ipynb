{
 "cells": [
  {
   "cell_type": "code",
   "execution_count": 4,
   "id": "cd48f051-95bb-4a55-a5fc-280a140bd44a",
   "metadata": {
    "tags": []
   },
   "outputs": [],
   "source": [
    "# import add-ons\n",
    "import pandas as pd\n",
    "from datetime import datetime\n",
    "import numpy as np\n",
    "import matplotlib.pyplot as plt\n",
    "import numpy as np #imports\n",
    "import matplotlib.pyplot as plt\n",
    "import cartopy.crs as ccrs\n",
    "import cartopy.feature as cfeature\n",
    "import xarray as xr\n",
    "from scipy import stats\n",
    "import netCDF4\n",
    "import cmocean\n"
   ]
  },
  {
   "cell_type": "code",
   "execution_count": 14,
   "id": "52bf0701-88a9-4965-accc-016fe4a0a13c",
   "metadata": {},
   "outputs": [],
   "source": [
    "# dataset files\n",
    "dabob_filepath = 'data/Dabob_122W_48N_Jul2019_Jun2020.csv'\n",
    "twanoh_filepath = 'data/Twanoh_123W_47N_Sep2019_Oct2020.csv'\n",
    "Ndata_filepath ='data/46124o2020.txt'\n",
    "Sdata_filepath = 'data/46125o2020.txt'"
   ]
  },
  {
   "cell_type": "code",
   "execution_count": 29,
   "id": "c93ad395-3cfa-4839-b6a6-3342331b4884",
   "metadata": {
    "tags": []
   },
   "outputs": [],
   "source": [
    "# load dabob dataset\n",
    "#dabob = pd.read_csv(dabob_filepath,sep='\\t',delimiter=',')\n",
    "#twanoh = pd.read_csv(twanoh_filepath,sep=',')\n"
   ]
  },
  {
   "cell_type": "code",
   "execution_count": 39,
   "id": "e943c4d5-7cb3-4443-ad14-08c934aed03d",
   "metadata": {
    "tags": []
   },
   "outputs": [
    {
     "ename": "UFuncTypeError",
     "evalue": "ufunc 'add' did not contain a loop with signature matching types (dtype('<U32'), dtype('<U1')) -> None",
     "output_type": "error",
     "traceback": [
      "\u001b[0;31m---------------------------------------------------------------------------\u001b[0m",
      "\u001b[0;31mUFuncTypeError\u001b[0m                            Traceback (most recent call last)",
      "Cell \u001b[0;32mIn[39], line 4\u001b[0m\n\u001b[1;32m      2\u001b[0m oxygen_Ndata \u001b[38;5;241m=\u001b[39m np\u001b[38;5;241m.\u001b[39mgenfromtxt(Ndata_filepath,skip_header\u001b[38;5;241m=\u001b[39m\u001b[38;5;241m2\u001b[39m,usecols\u001b[38;5;241m=\u001b[39m\u001b[38;5;241m10\u001b[39m) \u001b[38;5;66;03m# y axis\u001b[39;00m\n\u001b[1;32m      3\u001b[0m dates_Ndata \u001b[38;5;241m=\u001b[39m np\u001b[38;5;241m.\u001b[39mgenfromtxt(Ndata_filepath,skip_header\u001b[38;5;241m=\u001b[39m\u001b[38;5;241m2\u001b[39m,usecols\u001b[38;5;241m=\u001b[39m(\u001b[38;5;241m0\u001b[39m,\u001b[38;5;241m1\u001b[39m,\u001b[38;5;241m2\u001b[39m)) \u001b[38;5;66;03m# x axis (month and day)\u001b[39;00m\n\u001b[0;32m----> 4\u001b[0m date_Ndata \u001b[38;5;241m=\u001b[39m \u001b[43m(\u001b[49m\u001b[43mdates_Ndata\u001b[49m\u001b[43m[\u001b[49m\u001b[43m:\u001b[49m\u001b[43m,\u001b[49m\u001b[38;5;241;43m0\u001b[39;49m\u001b[43m]\u001b[49m\u001b[43m)\u001b[49m\u001b[38;5;241;43m.\u001b[39;49m\u001b[43mastype\u001b[49m\u001b[43m(\u001b[49m\u001b[38;5;28;43mstr\u001b[39;49m\u001b[43m)\u001b[49m\u001b[43m \u001b[49m\u001b[38;5;241;43m+\u001b[39;49m\u001b[43m \u001b[49m\u001b[38;5;124;43m'\u001b[39;49m\u001b[38;5;124;43m_\u001b[39;49m\u001b[38;5;124;43m'\u001b[39;49m \u001b[38;5;241m+\u001b[39m df\u001b[38;5;241m.\u001b[39mpop(dates_Ndata[:,\u001b[38;5;241m1\u001b[39m])\u001b[38;5;241m.\u001b[39mastype(\u001b[38;5;28mstr\u001b[39m)\n",
      "\u001b[0;31mUFuncTypeError\u001b[0m: ufunc 'add' did not contain a loop with signature matching types (dtype('<U32'), dtype('<U1')) -> None"
     ]
    }
   ],
   "source": [
    "# Ndata\n",
    "oxygen_Ndata = np.genfromtxt(Ndata_filepath,skip_header=2,usecols=10) # y axis\n",
    "dates_Ndata = np.genfromtxt(Ndata_filepath,skip_header=2,usecols=(0,1,2)) # x axis (month and day)\n",
    "date_Ndata = "
   ]
  },
  {
   "cell_type": "code",
   "execution_count": null,
   "id": "7ee51d14-d1ea-4d94-935b-03ebdb282581",
   "metadata": {},
   "outputs": [],
   "source": []
  }
 ],
 "metadata": {
  "kernelspec": {
   "display_name": "Python 3 (ipykernel)",
   "language": "python",
   "name": "python3"
  },
  "language_info": {
   "codemirror_mode": {
    "name": "ipython",
    "version": 3
   },
   "file_extension": ".py",
   "mimetype": "text/x-python",
   "name": "python",
   "nbconvert_exporter": "python",
   "pygments_lexer": "ipython3",
   "version": "3.10.10"
  }
 },
 "nbformat": 4,
 "nbformat_minor": 5
}
